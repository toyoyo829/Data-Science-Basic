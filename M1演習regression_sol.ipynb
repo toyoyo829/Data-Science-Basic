{
 "cells": [
  {
   "cell_type": "markdown",
   "metadata": {},
   "source": [
    "# 回帰の精度計算\n",
    "- $f(x)=w_0x_0+w_1x_1$（$x_0=1$)の線形回帰モデルを考える\n",
    "- 真のパラメータと評価したいパラメータをそれぞれリストで作成．\n",
    "- 真のパラメータでランダムにデータを作成．\n",
    "- 評価したいパラメータで予測値を計算．\n",
    "- RMSE, MSE, 決定係数を計算．"
   ]
  },
  {
   "cell_type": "code",
   "execution_count": 1,
   "metadata": {},
   "outputs": [],
   "source": [
    "import random\n",
    "import math"
   ]
  },
  {
   "cell_type": "code",
   "execution_count": 10,
   "metadata": {},
   "outputs": [],
   "source": [
    "w_t = [1, 2] # 真のパラメータ\n",
    "w     = [1, 3] # 評価対象のパラメータ"
   ]
  },
  {
   "cell_type": "markdown",
   "metadata": {},
   "source": [
    "### データ作成\n",
    "以下のように真の関数に平均0, 標準偏差$sigma$の正規分布に従うノイズ$\\epsilon$が乗ったものを観測データとして作成し返す関数`generate_data()`を実装してください。関数は真のパラメータ`w_t`、正規分布の標準偏差`sigma`、データ数`n`を引数に受け取ります。\n",
    "\n",
    "$y=w_0x_0+w_1x_1+\\epsilon$"
   ]
  },
  {
   "cell_type": "code",
   "execution_count": 3,
   "metadata": {},
   "outputs": [],
   "source": [
    "# データを作成\n",
    "def generate_data(w_t, sigma, n):\n",
    "    X = []\n",
    "    Y = []\n",
    "    for i in range(n):\n",
    "        X.append( (1, random.random()) )\n",
    "        Y.append( w_t[0] * X[i][0] + w_t[1] * X[i][1] + random.gauss(0, sigma) )\n",
    "    return X, Y"
   ]
  },
  {
   "cell_type": "markdown",
   "metadata": {},
   "source": [
    "以下のセルを実行して関数の動作を確認してください。"
   ]
  },
  {
   "cell_type": "code",
   "execution_count": 12,
   "metadata": {},
   "outputs": [
    {
     "name": "stdout",
     "output_type": "stream",
     "text": [
      "[(1, 0.8380177301926727), (1, 0.2643047018566844), (1, 0.046715852634446886), (1, 0.5460031867141224), (1, 0.5611550931424627)]\n",
      "[1.5722935934261364, 0.6927481325968672, -0.7275920437713843, 1.35752759796723, 1.743764920809918]\n"
     ]
    }
   ],
   "source": [
    "n=100\n",
    "sigma=1\n",
    "X, Y = generate_data(w_t, sigma, n)\n",
    "print(X[:5])\n",
    "print(Y[:5])"
   ]
  },
  {
   "cell_type": "markdown",
   "metadata": {},
   "source": [
    "以下のセルを実行して`True`が出力されるか確認してください。"
   ]
  },
  {
   "cell_type": "code",
   "execution_count": 13,
   "metadata": {},
   "outputs": [
    {
     "name": "stdout",
     "output_type": "stream",
     "text": [
      "True\n",
      "True\n"
     ]
    }
   ],
   "source": [
    "print(n*2==sum([len(x) for x in X]))\n",
    "print(n == len(Y))"
   ]
  },
  {
   "cell_type": "code",
   "execution_count": 14,
   "metadata": {},
   "outputs": [
    {
     "data": {
      "image/png": "[encoded data removed]",
      "text/plain": [
       "<Figure size 504x360 with 1 Axes>"
      ]
     },
     "metadata": {
      "needs_background": "light"
     },
     "output_type": "display_data"
    }
   ],
   "source": [
    "import matplotlib.pyplot as plt\n",
    "import numpy as np\n",
    "\n",
    "x=np.array(X)\n",
    "y=np.array(Y)\n",
    "\n",
    "plt.figure(figsize=(7,5))\n",
    "plt.xlabel('x')\n",
    "plt.ylabel('y');\n",
    "\n",
    "plt.scatter(x[:,1],y,c='red');\n",
    "\n",
    "x1=np.arange(x[:,1].min(),x[:,1].max(),0.1)\n",
    "plt.plot(x1, w_t[0]+x1*w_t[1], color='gray');\n",
    "plt.plot(x1, w[0]+x1*w[1], color='black');"
   ]
  },
  {
   "cell_type": "markdown",
   "metadata": {},
   "source": [
    "### 予測\n",
    "入力データのリスト`X`と評価対象のパラメータ`w`を引数として受け取り各入力データに対する予測値のリスト`Y_pred`を返す関数`predict()`を実装してください。"
   ]
  },
  {
   "cell_type": "code",
   "execution_count": 218,
   "metadata": {},
   "outputs": [],
   "source": [
    "# パラメータwで予測\n",
    "def predict(X, w):\n",
    "    Y_pred = []\n",
    "    for x in X:\n",
    "        Y_pred.append( w[0] * x[0] + w[1] * x[1] )\n",
    "    return Y_pred"
   ]
  },
  {
   "cell_type": "markdown",
   "metadata": {},
   "source": [
    "以下のセルを実行して関数の動作を確認してください。"
   ]
  },
  {
   "cell_type": "code",
   "execution_count": 219,
   "metadata": {},
   "outputs": [
    {
     "name": "stdout",
     "output_type": "stream",
     "text": [
      "[2.2008924074608123, 2.6665684957030367, 2.731179270443856, 2.0632225077486526, 2.8722980262567965]\n"
     ]
    }
   ],
   "source": [
    "Y_pred = predict(X, w)\n",
    "print(Y_pred[:5])"
   ]
  },
  {
   "cell_type": "markdown",
   "metadata": {},
   "source": [
    "以下のセルを実行して`True`が出力されるか確認してください。"
   ]
  },
  {
   "cell_type": "code",
   "execution_count": 220,
   "metadata": {},
   "outputs": [
    {
     "name": "stdout",
     "output_type": "stream",
     "text": [
      "True\n"
     ]
    }
   ],
   "source": [
    "print(n==len(predict(X, w)))"
   ]
  },
  {
   "cell_type": "markdown",
   "metadata": {},
   "source": [
    "### RMSE（平均二乗誤差平方根）\n",
    "真の出力値のリスト`Y`と予測値のリスト`Y_pred`を受け取りそれらのRMSE（平均二乗誤差平方根）の値を返す関数`rmse()`を実装してください。"
   ]
  },
  {
   "cell_type": "code",
   "execution_count": 221,
   "metadata": {},
   "outputs": [],
   "source": [
    "# RMSEを計算\n",
    "def rmse(Y, Y_pred):\n",
    "    RMSE = 0\n",
    "    for i in range(len(Y)):\n",
    "        RMSE += ( Y[i] - Y_pred[i] ) * ( Y[i] - Y_pred[i] ) / len(Y)\n",
    "    RMSE = math.sqrt(RMSE)\n",
    "    return RMSE"
   ]
  },
  {
   "cell_type": "markdown",
   "metadata": {},
   "source": [
    "以下のセルを実行して関数の動作を確認してください。"
   ]
  },
  {
   "cell_type": "code",
   "execution_count": 222,
   "metadata": {},
   "outputs": [
    {
     "name": "stdout",
     "output_type": "stream",
     "text": [
      "0.0\n"
     ]
    }
   ],
   "source": [
    "RMSE = rmse(Y, Y_pred)\n",
    "print(RMSE)"
   ]
  },
  {
   "cell_type": "markdown",
   "metadata": {},
   "source": [
    "以下のセルを実行して`True`が出力されるか確認してください。真のパラメータと評価対象のパラメータが同じでデータのノイズが0であればRMSEは0になります。"
   ]
  },
  {
   "cell_type": "code",
   "execution_count": 223,
   "metadata": {},
   "outputs": [
    {
     "name": "stdout",
     "output_type": "stream",
     "text": [
      "True\n"
     ]
    }
   ],
   "source": [
    "print(0==rmse(Y, Y_pred))"
   ]
  },
  {
   "cell_type": "markdown",
   "metadata": {},
   "source": [
    "### MAE（平均絶対誤差）\n",
    "真の出力値のリスト`Y`と予測値のリスト`Y_pred`を受け取りそれらのMAE（平均絶対誤差）の値を返す関数`mae()`を実装してください。"
   ]
  },
  {
   "cell_type": "code",
   "execution_count": 224,
   "metadata": {},
   "outputs": [],
   "source": [
    "# MAEを計算\n",
    "def mae(Y, Y_pred):\n",
    "    MAE = 0\n",
    "    for i in range(len(Y)):\n",
    "        MAE += math.fabs( Y[i] - Y_pred[i] )  / len(Y)\n",
    "    return MAE"
   ]
  },
  {
   "cell_type": "markdown",
   "metadata": {},
   "source": [
    "以下のセルを実行して関数の動作を確認してください。"
   ]
  },
  {
   "cell_type": "code",
   "execution_count": 225,
   "metadata": {},
   "outputs": [
    {
     "name": "stdout",
     "output_type": "stream",
     "text": [
      "0.0\n"
     ]
    }
   ],
   "source": [
    "MAE = mae(Y, Y_pred)\n",
    "print(MAE)"
   ]
  },
  {
   "cell_type": "markdown",
   "metadata": {},
   "source": [
    "以下のセルを実行して`True`が出力されるか確認してください。真のパラメータと評価対象のパラメータが同じでデータのノイズが0であればMAEは0になります。"
   ]
  },
  {
   "cell_type": "code",
   "execution_count": 226,
   "metadata": {},
   "outputs": [
    {
     "name": "stdout",
     "output_type": "stream",
     "text": [
      "True\n"
     ]
    }
   ],
   "source": [
    "print(0==mae(Y, Y_pred))"
   ]
  },
  {
   "cell_type": "markdown",
   "metadata": {},
   "source": [
    "### 決定係数\n",
    "真の出力値のリスト`Y`と予測値のリスト`Y_pred`を受け取りそれらの決定係数の値を返す関数`r2()`を実装してください。"
   ]
  },
  {
   "cell_type": "code",
   "execution_count": 227,
   "metadata": {},
   "outputs": [],
   "source": [
    "# 決定係数を計算\n",
    "def r2(Y, Y_pred):\n",
    "    Y_mean = 0\n",
    "    for y in Y:\n",
    "        Y_mean += y/len(Y)\n",
    "    MSE1 = 0\n",
    "    MSE2 = 0\n",
    "\n",
    "    for i in range(len(Y)):\n",
    "        MSE1 += ( Y[i] - Y_pred[i] ) * ( Y[i] - Y_pred[i] ) / len(Y)\n",
    "        MSE2 += ( Y[i] - Y_mean ) * ( Y[i] - Y_mean ) / len(Y)\n",
    "    R2 = 1 - (MSE1/MSE2)\n",
    "    return R2"
   ]
  },
  {
   "cell_type": "markdown",
   "metadata": {},
   "source": [
    "以下のセルを実行して関数の動作を確認してください。"
   ]
  },
  {
   "cell_type": "code",
   "execution_count": 228,
   "metadata": {},
   "outputs": [
    {
     "name": "stdout",
     "output_type": "stream",
     "text": [
      "1.0\n",
      "True\n"
     ]
    }
   ],
   "source": [
    "R2 = r2(Y, Y_pred)\n",
    "print(R2)\n",
    "print(1==R2)"
   ]
  },
  {
   "cell_type": "markdown",
   "metadata": {},
   "source": [
    "以下のセルを実行して`True`が出力されるか確認してください。真のパラメータと評価対象のパラメータが同じでデータのノイズが0であればR2は1になります。"
   ]
  },
  {
   "cell_type": "code",
   "execution_count": 229,
   "metadata": {},
   "outputs": [
    {
     "name": "stdout",
     "output_type": "stream",
     "text": [
      "True\n"
     ]
    }
   ],
   "source": [
    "print(1==R2)"
   ]
  },
  {
   "cell_type": "markdown",
   "metadata": {},
   "source": [
    "## 効率的な実装方法"
   ]
  },
  {
   "cell_type": "code",
   "execution_count": 185,
   "metadata": {},
   "outputs": [],
   "source": [
    "# 内包表記で以下のようにデータ生成も可能\n",
    "X = [ (1, random.random() ) for i in range(n) ]\n",
    "Y = [ w_t[0] * x[0] + w_t[1] * x[1] + random.gauss(0, sigma) for x in X ]"
   ]
  },
  {
   "cell_type": "code",
   "execution_count": 186,
   "metadata": {},
   "outputs": [],
   "source": [
    "# パラメータwで予測\n",
    "Y_pred = [ w[0] * x[0] + w[1] * x[1] for x in X ] "
   ]
  },
  {
   "cell_type": "code",
   "execution_count": 187,
   "metadata": {},
   "outputs": [
    {
     "name": "stdout",
     "output_type": "stream",
     "text": [
      "0.0\n"
     ]
    }
   ],
   "source": [
    "# RMSEを計算\n",
    "RMSE = math.sqrt( sum( [ (y-yp)**2/n for (y, yp) in zip(Y, Y_pred) ]  ) )\n",
    "print(RMSE)"
   ]
  },
  {
   "cell_type": "code",
   "execution_count": 188,
   "metadata": {},
   "outputs": [
    {
     "name": "stdout",
     "output_type": "stream",
     "text": [
      "0.0\n"
     ]
    }
   ],
   "source": [
    "# MAEを計算\n",
    "MAE = sum( [ math.fabs(y-yp)/n for (y, yp) in zip(Y, Y_pred) ]  )\n",
    "print(MAE)"
   ]
  },
  {
   "cell_type": "code",
   "execution_count": 189,
   "metadata": {},
   "outputs": [
    {
     "name": "stdout",
     "output_type": "stream",
     "text": [
      "1.0\n"
     ]
    }
   ],
   "source": [
    "# 決定係数を計算\n",
    "Y_mean = sum(Y) / n\n",
    "MSE1 = sum( [ (y-yp)**2/n for (y, yp) in zip(Y, Y_pred) ] )\n",
    "MSE2 = sum( [ (y-Y_mean)**2/n for y in Y ] )\n",
    "R2 = 1 - (MSE1/MSE2)\n",
    "print(R2)"
   ]
  }
 ],
 "metadata": {
  "kernelspec": {
   "display_name": "Python 3",
   "language": "python",
   "name": "python3"
  },
  "language_info": {
   "codemirror_mode": {
    "name": "ipython",
    "version": 3
   },
   "file_extension": ".py",
   "mimetype": "text/x-python",
   "name": "python",
   "nbconvert_exporter": "python",
   "pygments_lexer": "ipython3",
   "version": "3.7.6"
  }
 },
 "nbformat": 4,
 "nbformat_minor": 2
}
