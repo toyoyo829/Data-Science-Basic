{
 "cells": [
  {
   "cell_type": "markdown",
   "metadata": {},
   "source": [
    "# リッジ回帰に対する確率的勾配降下法\n",
    "目的：　　　　人工データに対し，リッジ回帰を確率的勾配降下法で学習．\n",
    "\n",
    "搭載機能：\n",
    "- 学習・予測\n",
    "- ハイパーパラメータ設定\n",
    "- パラメータの保存・読込\n",
    "- 訓練損失の学習曲線を描画"
   ]
  },
  {
   "cell_type": "code",
   "execution_count": 1,
   "metadata": {},
   "outputs": [],
   "source": [
    "import numpy as np\n",
    "import matplotlib.pyplot as plt\n",
    "import pickle"
   ]
  },
  {
   "cell_type": "code",
   "execution_count": 2,
   "metadata": {},
   "outputs": [],
   "source": [
    "# RMSEを計算\n",
    "def RMSE( lm, X, y ):\n",
    "    y_pred = lm.predict(X)\n",
    "    return np.sqrt( 「データごとに二乗誤差を合計するコードを書いてください」 / n ) "
   ]
  },
  {
   "cell_type": "code",
   "execution_count": 3,
   "metadata": {},
   "outputs": [],
   "source": [
    "# 二乗損失の損失値と微分を計算\n",
    "# 損失をクラス化しておくことで，他の損失に取り替えやすくなる\n",
    "class SquaredLoss():\n",
    "    def value( self, y_pred, y ):\n",
    "        n = y.shape[0]\n",
    "        return 「データごとに二乗誤差を合計するコードを書いてください」\n",
    "    \n",
    "    def grad( self, y_pred, y ):\n",
    "        return -(y-y_pred)"
   ]
  },
  {
   "cell_type": "code",
   "execution_count": 4,
   "metadata": {},
   "outputs": [],
   "source": [
    "class SGD():\n",
    "    # 各種初期化\n",
    "    def __init__( self, loss, reg_coeff=1e-6, t0=1.0e+3, eta=1.0e+2, p=1 ):\n",
    "        self.__t0 = t0\n",
    "        self.__eta = eta\n",
    "        self.__t = 0\n",
    "        self.__w = None\n",
    "        self.__b = 0\n",
    "        self.__p = p\n",
    "        self.__loss = loss\n",
    "        self.__lambda = reg_coeff\n",
    "        self.__epoch = 100\n",
    "        \n",
    "    def set_eta( self, eta ):\n",
    "        self.__eta = eta\n",
    "        \n",
    "    # パラメータを保存\n",
    "    def save_param( self, fname ):\n",
    "        if self.__w is None:\n",
    "            return\n",
    "        fw = open(fname,'wb')\n",
    "        pickle.dump( [self.__w, self.__b], fw )\n",
    "        fw.close()       \n",
    "        \n",
    "    # パラメータを読込\n",
    "    def load_param( self, fname ):\n",
    "        f = open(fname,'rb')\n",
    "        [ self.__w, self.__b ] = pickle.load(f)\n",
    "        print( self.__w )\n",
    "        f.close() \n",
    "\n",
    "    # 反復数をインクリメント\n",
    "    def increment_counter( self ):\n",
    "        self.__t += 1\n",
    "\n",
    "    # 学習率を計算\n",
    "    def learning_rate( self ):\n",
    "        return self.__eta/np.power( (self.__t0+self.__t), self.__p )\n",
    "    \n",
    "    # 各種状態をリセット\n",
    "    def reset( self ):\n",
    "        self.__t = 0\n",
    "        self.__w *= 0\n",
    "        self.__b = 0\n",
    "    \n",
    "    # 予測値を計算\n",
    "    def predict( self, X ):\n",
    "        if self.__w is None:\n",
    "            return\n",
    "        return np.dot( X, self.__w.T ) + self.__b\n",
    "    \n",
    "    # 訓練損失をプロット\n",
    "    def plot( self, loss_curve ):\n",
    "        n = len(loss_curve)\n",
    "        e = np.arange(n)\n",
    "        plt.title('Train: Loss curve'), plt.xlabel('epoch'), plt.ylabel('loss')\n",
    "        plt.plot(e, loss_curve)\n",
    "\n",
    "    # 学習を実行\n",
    "    def fit( self, X, y):\n",
    "        if self.__w is None:\n",
    "            self.__w = np.zeros( X.shape[1] )\n",
    "        loss_curve = []\n",
    "        n = 「訓練データXのレコード数をnumpy.shapeを用いて表してください」\n",
    "        for e in range(self.__epoch):\n",
    "            ind = list(range(n))\n",
    "            「リストindをシャッフルする処理を書いてください」\n",
    "            for i in ind:\n",
    "                y_pred = np.dot(X[i], self.__w.T) + self.__b\n",
    "                grad_coeff = self.__loss.grad(y_pred, y[i])\n",
    "                self.__w -= self.learning_rate() * ( grad_coeff * X[i] + self.__lambda  * w )\n",
    "                self.__b -= self.learning_rate() * grad_coeff\n",
    "            loss_curve.append( self.__loss.value( self.predict(X), y ) )\n",
    "            self.increment_counter()\n",
    "        self.plot( loss_curve )"
   ]
  },
  {
   "cell_type": "code",
   "execution_count": 5,
   "metadata": {},
   "outputs": [],
   "source": [
    "w = np.array( [1,2] )\n",
    "b = 1\n",
    "sigma = 1\n",
    "n = 10\n",
    "d = 2\n",
    "X = np.random.uniform( -1, 1, (n,d) )\n",
    "y = np.dot(X,w.T) + np.random.normal(0,sigma,n).T"
   ]
  },
  {
   "cell_type": "code",
   "execution_count": 6,
   "metadata": {},
   "outputs": [],
   "source": [
    "lm = SGD( SquaredLoss(), eta=1e+2 )"
   ]
  },
  {
   "cell_type": "code",
   "execution_count": 7,
   "metadata": {},
   "outputs": [
    {
     "name": "stdout",
     "output_type": "stream",
     "text": [
      "RMSE: 0.73\n"
     ]
    },
    {
     "data": {
      "image/png": "[encoded data removed]",
      "text/plain": [
       "<Figure size 432x288 with 1 Axes>"
      ]
     },
     "metadata": {
      "needs_background": "light"
     },
     "output_type": "display_data"
    }
   ],
   "source": [
    "#動作確認をしてみましょう。\n",
    "lm.fit(X,y)\n",
    "y_pred = lm.predict(X)\n",
    "print( \"RMSE: {:.2}\".format( RMSE(lm,X,y) ) )"
   ]
  },
  {
   "cell_type": "code",
   "execution_count": 9,
   "metadata": {},
   "outputs": [
    {
     "name": "stdout",
     "output_type": "stream",
     "text": [
      "RMSE: 0.54\n"
     ]
    },
    {
     "data": {
      "image/png": "[encoded data removed]",
      "text/plain": [
       "<Figure size 432x288 with 1 Axes>"
      ]
     },
     "metadata": {
      "needs_background": "light"
     },
     "output_type": "display_data"
    }
   ],
   "source": [
    "#動作確認をしてみましょう。\n",
    "lm.reset()\n",
    "lm.fit(X,y)\n",
    "print( \"RMSE: {:.2}\".format( RMSE(lm,X,y) ) )"
   ]
  },
  {
   "cell_type": "code",
   "execution_count": 10,
   "metadata": {},
   "outputs": [
    {
     "name": "stdout",
     "output_type": "stream",
     "text": [
      "RMSE: 1.1\n",
      "[0.80954589 1.65046649]\n",
      "RMSE: 0.54\n"
     ]
    }
   ],
   "source": [
    "#動作確認をしてみましょう。\n",
    "lm.save_param( \"param.bin\")\n",
    "lm.reset()\n",
    "print( \"RMSE: {:.2}\".format( RMSE(lm,X,y) ) )\n",
    "lm.load_param(\"param.bin\")\n",
    "print( \"RMSE: {:.2}\".format( RMSE(lm,X,y) ) )"
   ]
  },
  {
   "cell_type": "code",
   "execution_count": null,
   "metadata": {},
   "outputs": [],
   "source": []
  }
 ],
 "metadata": {
  "kernelspec": {
   "display_name": "Python 3",
   "language": "python",
   "name": "python3"
  },
  "language_info": {
   "codemirror_mode": {
    "name": "ipython",
    "version": 3
   },
   "file_extension": ".py",
   "mimetype": "text/x-python",
   "name": "python",
   "nbconvert_exporter": "python",
   "pygments_lexer": "ipython3",
   "version": "3.7.3"
  }
 },
 "nbformat": 4,
 "nbformat_minor": 4
}
