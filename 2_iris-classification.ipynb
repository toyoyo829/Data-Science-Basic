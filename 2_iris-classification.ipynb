{
 "cells": [
  {
   "cell_type": "markdown",
   "metadata": {},
   "source": [
    "# Irisデータで多値ロジスティック回帰を行う\n",
    "目的：　多値ロジスティック回帰でIrisデータを識別．\n",
    "        使用する特徴は二つに限定．\n",
    "\n",
    "- Pandasでデータの先頭5行を表示\n",
    "- 精度\n",
    "- コンフュージョンマトリックス(arrayと図)\n",
    "- 識別結果の図（ヒートマップ，サンプル点）"
   ]
  },
  {
   "cell_type": "code",
   "execution_count": 3,
   "metadata": {},
   "outputs": [],
   "source": [
    "import pandas as pd\n",
    "import numpy as np\n",
    "from sklearn.preprocessing import LabelEncoder\n",
    "from sklearn.linear_model import LogisticRegression\n",
    "from sklearn.metrics import accuracy_score, confusion_matrix\n",
    "import matplotlib.pyplot as plt"
   ]
  },
  {
   "cell_type": "markdown",
   "metadata": {},
   "source": [
    "## データ読込"
   ]
  },
  {
   "cell_type": "code",
   "execution_count": 2,
   "metadata": {},
   "outputs": [
    {
     "data": {
      "text/html": [
       "<div>\n",
       "<style scoped>\n",
       "    .dataframe tbody tr th:only-of-type {\n",
       "        vertical-align: middle;\n",
       "    }\n",
       "\n",
       "    .dataframe tbody tr th {\n",
       "        vertical-align: top;\n",
       "    }\n",
       "\n",
       "    .dataframe thead th {\n",
       "        text-align: right;\n",
       "    }\n",
       "</style>\n",
       "<table border=\"1\" class=\"dataframe\">\n",
       "  <thead>\n",
       "    <tr style=\"text-align: right;\">\n",
       "      <th></th>\n",
       "      <th>SepalLength</th>\n",
       "      <th>SepalWidth</th>\n",
       "      <th>PetalLength</th>\n",
       "      <th>PetalWidth</th>\n",
       "      <th>Name</th>\n",
       "    </tr>\n",
       "  </thead>\n",
       "  <tbody>\n",
       "    <tr>\n",
       "      <th>0</th>\n",
       "      <td>5.1</td>\n",
       "      <td>3.5</td>\n",
       "      <td>1.4</td>\n",
       "      <td>0.2</td>\n",
       "      <td>Iris-setosa</td>\n",
       "    </tr>\n",
       "    <tr>\n",
       "      <th>1</th>\n",
       "      <td>4.9</td>\n",
       "      <td>3.0</td>\n",
       "      <td>1.4</td>\n",
       "      <td>0.2</td>\n",
       "      <td>Iris-setosa</td>\n",
       "    </tr>\n",
       "    <tr>\n",
       "      <th>2</th>\n",
       "      <td>4.7</td>\n",
       "      <td>3.2</td>\n",
       "      <td>1.3</td>\n",
       "      <td>0.2</td>\n",
       "      <td>Iris-setosa</td>\n",
       "    </tr>\n",
       "    <tr>\n",
       "      <th>3</th>\n",
       "      <td>4.6</td>\n",
       "      <td>3.1</td>\n",
       "      <td>1.5</td>\n",
       "      <td>0.2</td>\n",
       "      <td>Iris-setosa</td>\n",
       "    </tr>\n",
       "    <tr>\n",
       "      <th>4</th>\n",
       "      <td>5.0</td>\n",
       "      <td>3.6</td>\n",
       "      <td>1.4</td>\n",
       "      <td>0.2</td>\n",
       "      <td>Iris-setosa</td>\n",
       "    </tr>\n",
       "  </tbody>\n",
       "</table>\n",
       "</div>"
      ],
      "text/plain": [
       "   SepalLength  SepalWidth  PetalLength  PetalWidth         Name\n",
       "0          5.1         3.5          1.4         0.2  Iris-setosa\n",
       "1          4.9         3.0          1.4         0.2  Iris-setosa\n",
       "2          4.7         3.2          1.3         0.2  Iris-setosa\n",
       "3          4.6         3.1          1.5         0.2  Iris-setosa\n",
       "4          5.0         3.6          1.4         0.2  Iris-setosa"
      ]
     },
     "execution_count": 2,
     "metadata": {},
     "output_type": "execute_result"
    }
   ],
   "source": [
    "# データ読込\n",
    "data = pd.read_csv(「ご自身がiris.csv を置いたパスを書いてください。」, encoding=\"utf-8\")\n",
    "data.loc[:4]"
   ]
  },
  {
   "cell_type": "code",
   "execution_count": 5,
   "metadata": {},
   "outputs": [],
   "source": [
    "# 特徴データとラベルをX, yに格納\n",
    "Features = ['PetalLength', 'PetalWidth']\n",
    "encoder = LabelEncoder()\n",
    "X = data[ Features ].values # numpy array\n",
    "encoder.fit(data.Name) # 整数値のラベルに変換\n",
    "# encoder.classes_ は ['Iris-setosa' 'Iris-versicolor' 'Iris-virginica']\n",
    "y_set = encoder.transform(encoder.classes_) \n",
    "y = encoder.transform(data.Name)"
   ]
  },
  {
   "cell_type": "code",
   "execution_count": null,
   "metadata": {},
   "outputs": [],
   "source": [
    "#Xとyの中身を実際に確認してみましょう。"
   ]
  },
  {
   "cell_type": "markdown",
   "metadata": {},
   "source": [
    "## ロジスティック回帰の学習と，精度・コンフュージョンマトリクス表示"
   ]
  },
  {
   "cell_type": "code",
   "execution_count": 8,
   "metadata": {},
   "outputs": [
    {
     "data": {
      "text/plain": [
       "LogisticRegression(C=100.0, class_weight=None, dual=False, fit_intercept=True,\n",
       "                   intercept_scaling=1, l1_ratio=None, max_iter=100,\n",
       "                   multi_class='auto', n_jobs=None, penalty='l2',\n",
       "                   random_state=None, solver='liblinear', tol=0.0001, verbose=0,\n",
       "                   warm_start=False)"
      ]
     },
     "execution_count": 8,
     "metadata": {},
     "output_type": "execute_result"
    }
   ],
   "source": [
    "# 多値ロジスティック回帰( C: 正則化係数 )\n",
    "clf = LogisticRegression(solver='liblinear', C=1e+2, multi_class='auto')\n",
    "「訓練データ X yを用いてclfの学習を行うコードを書いてください」"
   ]
  },
  {
   "cell_type": "code",
   "execution_count": 10,
   "metadata": {},
   "outputs": [],
   "source": [
    "#コンフュージョンマトリクスを出力する関数\n",
    "def conf_matrix(X,y,clf):\n",
    "    y_pred = clf.predict(X) \n",
    "    acc = 「accuracy_score関数で精度を計算してください」\n",
    "    cm = 「confusion_matrix関数でコンフュージョンマトリクスを計算してください」\n",
    "    return acc, cm"
   ]
  },
  {
   "cell_type": "code",
   "execution_count": 13,
   "metadata": {},
   "outputs": [
    {
     "name": "stdout",
     "output_type": "stream",
     "text": [
      "0.96\n",
      "[[50  0  0]\n",
      " [ 0 47  3]\n",
      " [ 0  3 47]]\n"
     ]
    }
   ],
   "source": [
    "#関数の動作確認\n",
    "print(conf_matrix(X,y,clf)[0])\n",
    "print(conf_matrix(X,y,clf)[1])"
   ]
  },
  {
   "cell_type": "code",
   "execution_count": 14,
   "metadata": {},
   "outputs": [
    {
     "data": {
      "text/plain": [
       "<matplotlib.colorbar.Colorbar at 0x1a972aadd30>"
      ]
     },
     "execution_count": 14,
     "metadata": {},
     "output_type": "execute_result"
    },
    {
     "data": {
      "image/png": "[encoded data removed]",
      "text/plain": [
       "<Figure size 432x288 with 2 Axes>"
      ]
     },
     "metadata": {
      "needs_background": "light"
     },
     "output_type": "display_data"
    }
   ],
   "source": [
    "#おまけ：コンフュージョンマトリクスをヒートマップで描画\n",
    "\n",
    "# xticks, yticksで目盛りのどの位置に何を表示するか指定\n",
    "plt.xticks( [0,1,2], encoder.inverse_transform(y_set) )\n",
    "plt.yticks( [0,1,2], encoder.inverse_transform(y_set) )\n",
    "plt.title('Confusion matrix')\n",
    "plt.xlabel('Predicted labels')\n",
    "plt.ylabel('True labels')\n",
    "# 図を表示\n",
    "\n",
    "plt.imshow(conf_matrix(X,y,clf)[1],  cmap=plt.cm.inferno)\n",
    "# カラーバーを表示\n",
    "plt.colorbar()"
   ]
  },
  {
   "cell_type": "markdown",
   "metadata": {},
   "source": [
    "## 識別面を描画 "
   ]
  },
  {
   "cell_type": "code",
   "execution_count": null,
   "metadata": {},
   "outputs": [],
   "source": [
    "def shikibetsumen(n, X):\n",
    "    # 0から10の線分をn分割点\n",
    "    xmin_0, xmax_0 = X[:,0].min(), X[:,0].max()\n",
    "    xmin_1, xmax_1 = X[:,1].min(), X[:,1].max()\n",
    "    x0_ = np.linspace(xmin_0, xmax_0, n)\n",
    "    x1_ = np.linspace(xmin_1, xmax_1, n)\n",
    "    # grid\n",
    "    x0, x1 = np.meshgrid(x0_,x1_) # n×nの行列ができる。\n",
    "    Xgrid = np.column_stack( [x0.ravel(), x1.ravel()] ) #numpy.ravel()で1次元化\n",
    "    z=0\n",
    "    「Xgridを入力としてモデルclfで分類を予測した結果をzに代入する処理を書いてください。」\n",
    "    z = z.reshape(x0.shape) # プロットのためにn×nの形に直す\n",
    "\n",
    "    \n",
    "    \n",
    "    「Xを入力としてモデルclfで分類を予測した結果をy_predに代入する処理を書いてください。」\n",
    "    # FIgureのサイズを指定 (横幅，縦幅)\n",
    "    plt.figure( figsize=(5,5) )\n",
    "\n",
    "    # x, y軸それぞれの目盛りの最小・最大値を設定\n",
    "    plt.xlim(xmin_0, xmax_0)\n",
    "    plt.ylim(xmin_1, xmax_1)\n",
    "\n",
    "    # グラフのタイトルとx軸・y軸のラベル\n",
    "    plt.title('contour'), plt.xlabel(Features[0]), plt.ylabel(Features[1])\n",
    "    # 等高線描画, alphaは透過度, cmapでカラーマップ\n",
    "    plt.contourf(x0, x1, z, alpha=0.9, cmap='viridis_r') \n",
    "    plt.scatter(X[:,0], X[:,1], c=y_pred, cmap='inferno', marker='o' )"
   ]
  },
  {
   "cell_type": "code",
   "execution_count": 7,
   "metadata": {},
   "outputs": [
    {
     "data": {
      "image/png": "[encoded data removed]",
      "text/plain": [
       "<Figure size 360x360 with 1 Axes>"
      ]
     },
     "metadata": {
      "needs_background": "light"
     },
     "output_type": "display_data"
    }
   ],
   "source": [
    "shikibetsumen(500, X)"
   ]
  }
 ],
 "metadata": {
  "kernelspec": {
   "display_name": "Python 3",
   "language": "python",
   "name": "python3"
  },
  "language_info": {
   "codemirror_mode": {
    "name": "ipython",
    "version": 3
   },
   "file_extension": ".py",
   "mimetype": "text/x-python",
   "name": "python",
   "nbconvert_exporter": "python",
   "pygments_lexer": "ipython3",
   "version": "3.7.3"
  }
 },
 "nbformat": 4,
 "nbformat_minor": 4
}
