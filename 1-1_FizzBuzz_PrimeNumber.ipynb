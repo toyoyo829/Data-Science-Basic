{
 "cells": [
  {
   "cell_type": "markdown",
   "metadata": {},
   "source": [
    "# FizzBuzz問題\n",
    "- 1から順に100までの数字を出力\n",
    "- 3で割り切れる時は Fizz を出力\n",
    "- 5で割り切れる時は Buzz を出力\n",
    "- 3 と 5で割り切れる時は Fizz Buzz を出力"
   ]
  },
  {
   "cell_type": "code",
   "execution_count": null,
   "metadata": {},
   "outputs": [],
   "source": [
    "#入力によってFizz Buzz 数値の出力を分ける関数を作ります。\n",
    "def fizzbuzz(x):\n",
    "    if x % 15 == 0:\n",
    "        return 'Fizz Buzz'\n",
    "    elif x % 3 == 0:\n",
    "        return 'Fizz'\n",
    "    elif x % 5 == 0:\n",
    "        return 'Buzz'\n",
    "    else:\n",
    "        return x"
   ]
  },
  {
   "cell_type": "code",
   "execution_count": 2,
   "metadata": {},
   "outputs": [
    {
     "data": {
      "text/plain": [
       "True"
      ]
     },
     "execution_count": 2,
     "metadata": {},
     "output_type": "execute_result"
    }
   ],
   "source": [
    "#関数fizzzbuzzの動作をチェックしてみましょう。Trueが出ればOKです。\n",
    "fizzbuzz(30) == 'Fizz Buzz'"
   ]
  },
  {
   "cell_type": "code",
   "execution_count": 3,
   "metadata": {},
   "outputs": [
    {
     "data": {
      "text/plain": [
       "True"
      ]
     },
     "execution_count": 3,
     "metadata": {},
     "output_type": "execute_result"
    }
   ],
   "source": [
    "#関数fizzzbuzzの動作をチェックしてみましょう。Trueが出ればOKです。\n",
    "fizzbuzz(18) == 'Fizz'"
   ]
  },
  {
   "cell_type": "code",
   "execution_count": 4,
   "metadata": {},
   "outputs": [
    {
     "data": {
      "text/plain": [
       "True"
      ]
     },
     "execution_count": 4,
     "metadata": {},
     "output_type": "execute_result"
    }
   ],
   "source": [
    "#関数fizzzbuzzの動作をチェックしてみましょう。Trueが出ればOKです。\n",
    "fizzbuzz(25) == 'Buzz'"
   ]
  },
  {
   "cell_type": "code",
   "execution_count": 5,
   "metadata": {},
   "outputs": [
    {
     "data": {
      "text/plain": [
       "True"
      ]
     },
     "execution_count": 5,
     "metadata": {},
     "output_type": "execute_result"
    }
   ],
   "source": [
    "#関数fizzzbuzzの動作をチェックしてみましょう。Trueが出ればOKです。\n",
    "fizzbuzz(1) == 1"
   ]
  },
  {
   "cell_type": "code",
   "execution_count": null,
   "metadata": {},
   "outputs": [],
   "source": [
    "#上で書いた処理をforループで回してみましょう。\n",
    "for i in range(1, 101):\n",
    "    fizzbuzz(i)"
   ]
  },
  {
   "cell_type": "code",
   "execution_count": null,
   "metadata": {},
   "outputs": [],
   "source": [
    "#他にもwhile文を用いる方法など様々な別解があります。余裕があれば挑戦してみましょう。"
   ]
  },
  {
   "cell_type": "markdown",
   "metadata": {},
   "source": [
    "# 素数表示\n",
    "- 1から1000までの素数を含むリストを作成・表示．"
   ]
  },
  {
   "cell_type": "code",
   "execution_count": null,
   "metadata": {},
   "outputs": [],
   "source": [
    "#入力x以下の素数が格納されたリストを出力する関数を作成してみましょう。\n",
    "def prime_listing(x):\n",
    "    prime=[2] #2は最小の素数である。forループでこのリストに他の素数も追加していくという方針。\n",
    "    for v in range( 3, x+1 ):\n",
    "        is_prime =True #vが素数であるかどうかのフラグ。初期値をTrueにしておく。\n",
    "        #以下は「vがそれより小さい素数で割り切れるならis_primeをFalseに置き換える」処理\n",
    "        for p in prime:\n",
    "            if v % p == 0:\n",
    "                is_prime = False\n",
    "                break #breakは最も内側ループのみから抜け出す処理。\n",
    "        #is_primeがTrueのまま変わらなかった場合はvは素数である。\n",
    "        if is_prime:\n",
    "            prime.append(v) \n",
    "    return prime"
   ]
  },
  {
   "cell_type": "code",
   "execution_count": null,
   "metadata": {},
   "outputs": [],
   "source": [
    "max_val = 1000\n",
    "prime_listing(max_val)"
   ]
  },
  {
   "cell_type": "code",
   "execution_count": null,
   "metadata": {},
   "outputs": [],
   "source": []
  }
 ],
 "metadata": {
  "kernelspec": {
   "display_name": "Python 3",
   "language": "python",
   "name": "python3"
  },
  "language_info": {
   "codemirror_mode": {
    "name": "ipython",
    "version": 3
   },
   "file_extension": ".py",
   "mimetype": "text/x-python",
   "name": "python",
   "nbconvert_exporter": "python",
   "pygments_lexer": "ipython3",
   "version": "3.7.6"
  }
 },
 "nbformat": 4,
 "nbformat_minor": 4
}
